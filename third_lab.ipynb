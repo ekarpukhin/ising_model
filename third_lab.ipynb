{
 "cells": [
  {
   "cell_type": "code",
   "execution_count": 1,
   "id": "0aee00f8-459d-403b-a03a-2422969eadbc",
   "metadata": {},
   "outputs": [],
   "source": [
    "from itertools import product\n",
    "from math import exp\n",
    "import numpy as np\n",
    "from numba import njit, prange\n",
    "from tqdm import trange\n",
    "from matplotlib import pyplot as plt"
   ]
  },
  {
   "cell_type": "code",
   "execution_count": 2,
   "id": "380266dc-74b6-4fad-8822-b5903e70bed7",
   "metadata": {},
   "outputs": [],
   "source": [
    "@njit\n",
    "def permutation(Lx,Ly,x):\n",
    "    \"\"\"\n",
    "    Быстрый подсчёт перестановки на решетке значений из множества {1,-1}\n",
    "    Всего перестановок 2^(Lx*Ly), эта функция создает одну из них, побитовыми операциями проверяя, -1 или 1 на\n",
    "    конкретной позиции (0 и 1 в двоичной записи соотв.). Делаем перестановку с единией на конце, \n",
    "    так как энергия - четная функция и достаточно посчитать на половине перестанововок а после домножить на 2.\n",
    "    \n",
    "    Input: размеры сетки и число, задающее перестановку\n",
    "    Output: перестановка в виде массива\n",
    "    \"\"\"\n",
    "    res = np.empty(Lx*Ly, dtype=np.int8)\n",
    "    for i in range(Lx*Ly-1):\n",
    "        res[i] = (x & 1) * 2 - 1\n",
    "        x = x >> 1\n",
    "    res[-1] = 1\n",
    "    return res"
   ]
  },
  {
   "cell_type": "code",
   "execution_count": 3,
   "id": "27e8ca85-afe2-43b7-9722-0d9c33622f24",
   "metadata": {},
   "outputs": [],
   "source": [
    "@njit\n",
    "def energy(Ly: int, Lx: int, sigma: np.ndarray) -> int:\n",
    "    \"\"\"\n",
    "    Подсчёт энергии конкретной перестановки по формуле. Причем значения на ребрах с противоложных концов считаем\n",
    "    соседними, ведь сетка бесконечная, а моделируем мы кусок.\n",
    "    \n",
    "    Input: размеры сетки и перестановка\n",
    "    Output: энергия перестановки\n",
    "    \"\"\"\n",
    "    E = 0\n",
    "    for i in range(n):\n",
    "        for j in range(m):\n",
    "            E -= sigma[i*m + j] * sigma[((i+1)%n)*m + j] # соседний снизу\n",
    "            E -= sigma[i*m + j] * sigma[i*m + (j + 1)%m] # соседний справа\n",
    "    return E"
   ]
  },
  {
   "cell_type": "code",
   "execution_count": 4,
   "id": "4527fec0-7a3e-44a2-855d-d957caac445b",
   "metadata": {},
   "outputs": [],
   "source": [
    "@njit(parallel=True)\n",
    "def mean_energy(Lx: int, Ly, kT: float) -> float:\n",
    "    \"\"\"\n",
    "    Вычисляем среднюю энергию. Комментарии к подсчету перестановок выше.\n",
    "    Input: размеры решетки и температура\n",
    "    Output: удельная средняя энергия\n",
    "    \"\"\"\n",
    "    E_mean = 0\n",
    "    Z = 0\n",
    "    for i in prange(2**(Lx*Ly-1)):\n",
    "        E = energy(Ly,Lx,permutation(Lx, Ly, i))\n",
    "        e = exp(-E / kT)\n",
    "        E_mean += E * e\n",
    "        Z += e\n",
    "    E_mean /= Z\n",
    "    return  E_mean / (Lx*Ly)"
   ]
  },
  {
   "cell_type": "code",
   "execution_count": 5,
   "id": "d44328db-abcd-4b08-86ea-5d3a1cdf77d2",
   "metadata": {
    "tags": []
   },
   "outputs": [],
   "source": [
    "def get_row(Lx, Ly=4, kT0=1.0, kT1=5.0, kTstep=0.1):\n",
    "    \"\"\"\n",
    "    Считаем энергии для все значений температуры для конкретной решетки\n",
    "    \"\"\"\n",
    "    n = int((kT1-kT0)/kTstep)\n",
    "    row = np.zeros(n)\n",
    "    for i in trange(n):\n",
    "        row[i] = mean_energy(Lx, Ly, kT0+kTstep*i)\n",
    "    np.savetxt(\"row{}.txt\".format(Lx),row)"
   ]
  },
  {
   "cell_type": "code",
   "execution_count": 7,
   "id": "cdee1e9f-ec06-440d-9b1b-912a12652f2f",
   "metadata": {},
   "outputs": [
    {
     "name": "stderr",
     "output_type": "stream",
     "text": [
      "100%|███████████████████████████████████████████████████████████████████████████████| 40/40 [5:19:33<00:00, 479.34s/it]\n"
     ]
    }
   ],
   "source": [
    "get_row(8)"
   ]
  },
  {
   "cell_type": "code",
   "execution_count": 11,
   "id": "b0c3ffe1-1247-4fa2-bb84-bf960bf07354",
   "metadata": {},
   "outputs": [],
   "source": [
    "def drawMap(Lx: int, n=40):\n",
    "    \"\"\"\n",
    "    Карта энергий при разных размерах сетки и температурах\n",
    "    \"\"\"\n",
    "    hmap = np.zeros((Lx-1,n))\n",
    "    for i in range(Lx-1):\n",
    "        hmap[i] = np.loadtxt(\"row{}.txt\".format(i+2))\n",
    "    plt.pcolormesh(hmap)\n",
    "    plt.colorbar()\n",
    "    plt.xlabel('kT')\n",
    "    plt.ylabel('Lx')\n",
    "    plt.yticks(range(7), np.arange(2,9))\n",
    "    plt.xticks(range(0,40,5), np.arange(1.0,5.0,0.5))\n",
    "    plt.show()"
   ]
  },
  {
   "cell_type": "code",
   "execution_count": 12,
   "id": "dfb98ef3-3fa2-4952-92e1-34b4e925bf1b",
   "metadata": {},
   "outputs": [
    {
     "data": {
      "image/png": "[encoded data removed]",
      "text/plain": [
       "<Figure size 432x288 with 2 Axes>"
      ]
     },
     "metadata": {
      "needs_background": "light"
     },
     "output_type": "display_data"
    }
   ],
   "source": [
    "drawMap(8)"
   ]
  },
  {
   "cell_type": "code",
   "execution_count": null,
   "id": "8f49841c-f3d4-4cda-8847-a3780d37356c",
   "metadata": {},
   "outputs": [],
   "source": []
  }
 ],
 "metadata": {
  "kernelspec": {
   "display_name": "Python 3 (ipykernel)",
   "language": "python",
   "name": "python3"
  },
  "language_info": {
   "codemirror_mode": {
    "name": "ipython",
    "version": 3
   },
   "file_extension": ".py",
   "mimetype": "text/x-python",
   "name": "python",
   "nbconvert_exporter": "python",
   "pygments_lexer": "ipython3",
   "version": "3.10.6"
  }
 },
 "nbformat": 4,
 "nbformat_minor": 5
}
